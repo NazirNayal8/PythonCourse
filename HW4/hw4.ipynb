{
 "cells": [
  {
   "cell_type": "code",
   "execution_count": 18,
   "metadata": {},
   "outputs": [
    {
     "data": {
      "text/plain": [
       "array([[1.        , 0.59476295],\n",
       "       [0.59476295, 1.        ]])"
      ]
     },
     "execution_count": 18,
     "metadata": {},
     "output_type": "execute_result"
    }
   ],
   "source": [
    "import pandas as pd\n",
    "import numpy as np\n",
    "from sklearn.gaussian_process import GaussianProcessRegressor\n",
    "from sklearn.gaussian_process.kernels import ConstantKernel, RBF\n",
    "\n",
    "tt = pd.read_csv('immSurvey.csv')\n",
    "tt.head()\n",
    "\n",
    "alphas = tt.stanMeansNewSysPooled\n",
    "sample = tt.textToSend\n",
    "\n",
    "from sklearn.feature_extraction.text import CountVectorizer\n",
    "vec = CountVectorizer(ngram_range=(1, 2))\n",
    "X = vec.fit_transform(sample)\n",
    "X\n",
    "\n",
    "pd.DataFrame(X.toarray(), columns=vec.get_feature_names())\n",
    "\n",
    "# #down-weighting frequent words; term frequency–inverse document frequency (TF–IDF), which weights the word counts by a measure of how often they appear in the documents\n",
    "# from sklearn.feature_extraction.text import TfidfVectorizer\n",
    "# vec = TfidfVectorizer()\n",
    "# X = vec.fit_transform(sample)\n",
    "# pd.DataFrame(X.toarray(), columns=vec.get_feature_names())\n",
    "\n",
    "from sklearn.model_selection import train_test_split\n",
    "Xtrain, Xtest, ytrain, ytest = train_test_split(X, alphas,\n",
    "random_state=1)\n",
    "\n",
    "rbf = ConstantKernel(1.0) * RBF(length_scale=1.0)\n",
    "gpr = GaussianProcessRegressor(kernel=rbf, alpha=1e-8)\n",
    "\n",
    "gpr.fit(Xtrain.toarray(), ytrain)\n",
    "\n",
    "# Compute posterior predictive mean and covariance\n",
    "mu_s, cov_s = gpr.predict(Xtest.toarray(), return_cov=True)\n",
    "\n",
    "#test correlation between test and mus\n",
    "np.corrcoef(ytest, mu_s)\n",
    "\n",
    "#how might we improve this?\n"
   ]
  },
  {
   "cell_type": "code",
   "execution_count": 9,
   "metadata": {},
   "outputs": [
    {
     "name": "stdout",
     "output_type": "stream",
     "text": [
      "Requirement already satisfied: sklearn in /home/nazirnayal/.local/lib/python3.8/site-packages (0.0)\r\n",
      "Requirement already satisfied: scikit-learn in /home/nazirnayal/.local/lib/python3.8/site-packages (from sklearn) (0.23.1)\r\n",
      "Requirement already satisfied: joblib>=0.11 in /home/nazirnayal/.local/lib/python3.8/site-packages (from scikit-learn->sklearn) (0.14.1)\r\n",
      "Requirement already satisfied: scipy>=0.19.1 in /home/nazirnayal/.local/lib/python3.8/site-packages (from scikit-learn->sklearn) (1.4.1)\r\n",
      "Requirement already satisfied: numpy>=1.13.3 in /home/nazirnayal/.local/lib/python3.8/site-packages (from scikit-learn->sklearn) (1.18.4)\r\n",
      "Requirement already satisfied: threadpoolctl>=2.0.0 in /home/nazirnayal/.local/lib/python3.8/site-packages (from scikit-learn->sklearn) (2.0.0)\r\n"
     ]
    }
   ],
   "source": [
    "array([[1.        , 0.68328521],\n",
    "       [0.68328521, 1.        ]]) # TFIDF Vectorizor\n",
    "\n",
    "array([[1.        , 0.63286059],\n",
    "       [0.63286059, 1.        ]]) # Count Vectorizor"
   ]
  }
 ],
 "metadata": {
  "kernelspec": {
   "display_name": "Python 3",
   "language": "python",
   "name": "python3"
  },
  "language_info": {
   "codemirror_mode": {
    "name": "ipython",
    "version": 3
   },
   "file_extension": ".py",
   "mimetype": "text/x-python",
   "name": "python",
   "nbconvert_exporter": "python",
   "pygments_lexer": "ipython3",
   "version": "3.8.2"
  }
 },
 "nbformat": 4,
 "nbformat_minor": 4
}
